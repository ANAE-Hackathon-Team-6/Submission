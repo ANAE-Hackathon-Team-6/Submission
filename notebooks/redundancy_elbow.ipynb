{
 "cells": [
  {
   "cell_type": "markdown",
   "id": "87bf5615",
   "metadata": {},
   "source": [
    "## Redundancy Hyperparams"
   ]
  },
  {
   "cell_type": "markdown",
   "id": "93c921fd",
   "metadata": {},
   "source": [
    "### Vector Database"
   ]
  },
  {
   "cell_type": "code",
   "execution_count": 1,
   "id": "12ad06cb",
   "metadata": {},
   "outputs": [],
   "source": [
    "from pinecone import Pinecone, ServerlessSpec\n",
    "pc = Pinecone(api_key=\"pcsk_39X7W5_3wjJB2qbiri92uQNSN1K2ubxwTrPYTvZWqCGqmf66JCRuWY1iH4gayAGy3mzEos\")"
   ]
  },
  {
   "cell_type": "code",
   "execution_count": 2,
   "id": "3d92496e",
   "metadata": {},
   "outputs": [],
   "source": [
    "import chromadb\n",
    "import numpy as np\n",
    "\n",
    "# Initialize ChromaDB (Persistent storage)\n",
    "chroma_client = chromadb.PersistentClient(path=\"./chroma_db\")\n",
    "\n",
    "# Create or get the collection\n",
    "collection = chroma_client.get_or_create_collection(name=\"submissions_collection\")"
   ]
  },
  {
   "cell_type": "code",
   "execution_count": 3,
   "id": "d2a92e00",
   "metadata": {},
   "outputs": [],
   "source": [
    "import pandas as pd\n",
    "\n",
    "df = pd.read_csv('activity(1).csv')\n",
    "\n",
    "# Convert column to list, ensuring all values are strings and handling NaNs\n",
    "data_list = (\n",
    "    df['activity'].astype(str) + \" : \" + df['description'].astype(str)\n",
    ").tolist()"
   ]
  },
  {
   "cell_type": "markdown",
   "id": "0f9318e4",
   "metadata": {},
   "source": [
    "### Function Call for API"
   ]
  },
  {
   "cell_type": "code",
   "execution_count": 4,
   "id": "4f4e497a",
   "metadata": {},
   "outputs": [],
   "source": [
    "import numpy as np\n",
    "\n",
    "embed_model = pc.inference\n",
    "\n",
    "def check_and_insert_activity(activity_id, activity_title, activity_description, threshold=0.6):\n",
    "    \"\"\"\n",
    "    Checks if an activity is redundant based on vector similarity and inserts it if not.\n",
    "    \n",
    "    Args:\n",
    "        activity_title (str): Title of the activity.\n",
    "        activity_description (str): Description of the activity.\n",
    "        collection (ChromaDB Collection): The vector database collection.\n",
    "        embed_model: The embedding model (e.g., Llama-text-embed-v2).\n",
    "        threshold (float): Similarity threshold for redundancy check.\n",
    "    \n",
    "    Returns:\n",
    "        dict: { \"redundant\": bool, \"similar_activities\": list of IDs }\n",
    "    \"\"\"\n",
    "    # Combine title and description\n",
    "    query_text = f\"{activity_title} : {activity_description}\"\n",
    "    \n",
    "    # Embed the query\n",
    "    query_embedding = embed_model.embed(\n",
    "        model=\"llama-text-embed-v2\",\n",
    "        inputs=[query_text],\n",
    "        parameters={\"input_type\": \"passage\"}\n",
    "    )[0][\"values\"]\n",
    "\n",
    "    # Search in ChromaDB\n",
    "    results = collection.query(\n",
    "        query_embeddings=[query_embedding],\n",
    "        n_results=10  # Get top 10 similar activities\n",
    "    )\n",
    "\n",
    "    # Extract results\n",
    "    similarities = results[\"distances\"][0]  # ChromaDB returns cosine distance\n",
    "    activity_ids = results[\"ids\"][0]  # Extract matching IDs\n",
    "\n",
    "    # Convert cosine distance to similarity (cosine similarity = 1 - distance)\n",
    "    similar_activity_ids = [\n",
    "        activity_id for sim, activity_id in zip(similarities, activity_ids) if (1 - sim) > threshold\n",
    "    ]\n",
    "\n",
    "    # If redundancy is found, return the similar activity IDs\n",
    "    if similar_activity_ids:\n",
    "        return True, similar_activity_ids\n",
    "    \n",
    "    # Otherwise, insert the new activity into ChromaDB\n",
    "    collection.add(\n",
    "        embeddings=[query_embedding],\n",
    "        metadatas=[{\"text\": query_text}],\n",
    "        ids=[activity_id]\n",
    "    )\n",
    "\n",
    "    return False, []"
   ]
  },
  {
   "cell_type": "markdown",
   "id": "5b34ec7e",
   "metadata": {},
   "source": [
    "### Elbow for 100"
   ]
  },
  {
   "cell_type": "code",
   "execution_count": 5,
   "id": "1712fd56",
   "metadata": {},
   "outputs": [],
   "source": [
    "import pandas as pd\n",
    "\n",
    "df = pd.read_csv('activity(1).csv')[:100]\n",
    "df.index += 1"
   ]
  },
  {
   "cell_type": "code",
   "execution_count": 6,
   "id": "95170f47",
   "metadata": {},
   "outputs": [
    {
     "name": "stdout",
     "output_type": "stream",
     "text": [
      "0.2 done! (92)\n",
      "0.3 done! (84)\n",
      "0.4 done! (73)\n",
      "0.5 done! (57)\n",
      "0.6 done! (28)\n",
      "0.7 done! (7)\n",
      "0.8 done! (3)\n",
      "0.9 done! (2)\n"
     ]
    },
    {
     "data": {
      "text/html": [
       "<div>\n",
       "<style scoped>\n",
       "    .dataframe tbody tr th:only-of-type {\n",
       "        vertical-align: middle;\n",
       "    }\n",
       "\n",
       "    .dataframe tbody tr th {\n",
       "        vertical-align: top;\n",
       "    }\n",
       "\n",
       "    .dataframe thead th {\n",
       "        text-align: right;\n",
       "    }\n",
       "</style>\n",
       "<table border=\"1\" class=\"dataframe\">\n",
       "  <thead>\n",
       "    <tr style=\"text-align: right;\">\n",
       "      <th></th>\n",
       "      <th>code_pro</th>\n",
       "      <th>wilaya</th>\n",
       "      <th>field</th>\n",
       "      <th>activity</th>\n",
       "      <th>description</th>\n",
       "      <th>redundant</th>\n",
       "      <th>similar_activities</th>\n",
       "    </tr>\n",
       "  </thead>\n",
       "  <tbody>\n",
       "    <tr>\n",
       "      <th>1</th>\n",
       "      <td>P6B3R8CC</td>\n",
       "      <td>Algiers</td>\n",
       "      <td>NaN</td>\n",
       "      <td>Technicien de Maintenance du matériel Prépress...</td>\n",
       "      <td>Le service Prépresse est équipé des machines C...</td>\n",
       "      <td>False</td>\n",
       "      <td>[]</td>\n",
       "    </tr>\n",
       "    <tr>\n",
       "      <th>2</th>\n",
       "      <td>LPC2SE3W</td>\n",
       "      <td>Algiers</td>\n",
       "      <td>Services à la personne</td>\n",
       "      <td>معالجة ملفات تأشيرة و خدمات الزبائن</td>\n",
       "      <td>معالجة ملفات تأشيرة وحجز مواعيد والتوجبه الزبا...</td>\n",
       "      <td>False</td>\n",
       "      <td>[]</td>\n",
       "    </tr>\n",
       "    <tr>\n",
       "      <th>3</th>\n",
       "      <td>DBX8Y5D7</td>\n",
       "      <td>Batna</td>\n",
       "      <td>Conseil, Expertise et formation</td>\n",
       "      <td>مستشار مختص بتأشيرات السفر و برامج الهجرة</td>\n",
       "      <td>تقديم استشارات في مجال السفر و الهجرة من أجل م...</td>\n",
       "      <td>False</td>\n",
       "      <td>[]</td>\n",
       "    </tr>\n",
       "    <tr>\n",
       "      <th>4</th>\n",
       "      <td>PYC53DLT</td>\n",
       "      <td>Msila</td>\n",
       "      <td>Services à la personne</td>\n",
       "      <td>الرسم بالزيت والرمل</td>\n",
       "      <td>رسم أشخاص وطبيعة و مناظر صحراوية  بالزيت والرمل</td>\n",
       "      <td>False</td>\n",
       "      <td>[]</td>\n",
       "    </tr>\n",
       "    <tr>\n",
       "      <th>5</th>\n",
       "      <td>TLLSNCC9</td>\n",
       "      <td>Algiers</td>\n",
       "      <td>Services à la personne</td>\n",
       "      <td>Dessinateur projeteur en travaux publics et su...</td>\n",
       "      <td>dessinateur projeteur en travaux publics (bâti...</td>\n",
       "      <td>False</td>\n",
       "      <td>[]</td>\n",
       "    </tr>\n",
       "  </tbody>\n",
       "</table>\n",
       "</div>"
      ],
      "text/plain": [
       "   code_pro   wilaya                            field  \\\n",
       "1  P6B3R8CC  Algiers                              NaN   \n",
       "2  LPC2SE3W  Algiers           Services à la personne   \n",
       "3  DBX8Y5D7    Batna  Conseil, Expertise et formation   \n",
       "4  PYC53DLT    Msila           Services à la personne   \n",
       "5  TLLSNCC9  Algiers           Services à la personne   \n",
       "\n",
       "                                            activity  \\\n",
       "1  Technicien de Maintenance du matériel Prépress...   \n",
       "2                معالجة ملفات تأشيرة و خدمات الزبائن   \n",
       "3          مستشار مختص بتأشيرات السفر و برامج الهجرة   \n",
       "4                                الرسم بالزيت والرمل   \n",
       "5  Dessinateur projeteur en travaux publics et su...   \n",
       "\n",
       "                                         description  redundant  \\\n",
       "1  Le service Prépresse est équipé des machines C...      False   \n",
       "2  معالجة ملفات تأشيرة وحجز مواعيد والتوجبه الزبا...      False   \n",
       "3  تقديم استشارات في مجال السفر و الهجرة من أجل م...      False   \n",
       "4    رسم أشخاص وطبيعة و مناظر صحراوية  بالزيت والرمل      False   \n",
       "5  dessinateur projeteur en travaux publics (bâti...      False   \n",
       "\n",
       "  similar_activities  \n",
       "1                 []  \n",
       "2                 []  \n",
       "3                 []  \n",
       "4                 []  \n",
       "5                 []  "
      ]
     },
     "execution_count": 6,
     "metadata": {},
     "output_type": "execute_result"
    }
   ],
   "source": [
    "thresholds = [0.2, 0.3, 0.4, 0.5, 0.6, 0.7, 0.8, 0.9]\n",
    "n_redundancies1 = []\n",
    "\n",
    "for th in thresholds:\n",
    "    df['redundant'], df['similar_activities'] = zip(*df.apply(lambda row: check_and_insert_activity(str(row.name), row['activity'], row['description'], threshold=th), axis=1))\n",
    "    \n",
    "    df[\"similar_activities\"] = df.apply(lambda row: [x for x in row[\"similar_activities\"] if str(x) != str(row.name)], axis=1)\n",
    "    df[\"redundant\"] = df[\"similar_activities\"].apply(lambda x: False if len(x) == 0 else True)\n",
    "    \n",
    "    ss = df['redundant'].sum()\n",
    "    n_redundancies1.append(ss)\n",
    "    print(f'{th} done! ({ss})')\n",
    "    \n",
    "df.head()"
   ]
  },
  {
   "cell_type": "code",
   "execution_count": 7,
   "id": "ff9c2fc8",
   "metadata": {},
   "outputs": [
    {
     "data": {
      "text/plain": [
       "[92, 84, 73, 57, 28, 7, 3, 2]"
      ]
     },
     "execution_count": 7,
     "metadata": {},
     "output_type": "execute_result"
    }
   ],
   "source": [
    "n_redundancies1"
   ]
  },
  {
   "cell_type": "code",
   "execution_count": 12,
   "id": "93c6e607",
   "metadata": {},
   "outputs": [
    {
     "data": {
      "text/plain": [
       "[<matplotlib.lines.Line2D at 0x7fc6535dc690>]"
      ]
     },
     "execution_count": 12,
     "metadata": {},
     "output_type": "execute_result"
    },
    {
     "data": {
      "image/png": "[encoded data removed]",
      "text/plain": [
       "<Figure size 640x480 with 1 Axes>"
      ]
     },
     "metadata": {},
     "output_type": "display_data"
    }
   ],
   "source": [
    "import matplotlib.pyplot as plt\n",
    "\n",
    "plt.plot(thresholds, n_redundancies1,)"
   ]
  },
  {
   "cell_type": "markdown",
   "id": "634a1151",
   "metadata": {},
   "source": [
    "### Elbow for 650"
   ]
  },
  {
   "cell_type": "code",
   "execution_count": 16,
   "id": "d8210dd8",
   "metadata": {},
   "outputs": [],
   "source": [
    "df = pd.read_csv('activity(1).csv')[:650]\n",
    "df.index += 1"
   ]
  },
  {
   "cell_type": "code",
   "execution_count": null,
   "id": "cc655c03",
   "metadata": {},
   "outputs": [],
   "source": [
    "thresholds = [0.1, 0.2, 0.3, 0.4, 0.5, 0.6, 0.7, 0.8, 0.9]\n",
    "n_redundancies2 = []"
   ]
  },
  {
   "cell_type": "code",
   "execution_count": 18,
   "id": "f737aa41",
   "metadata": {},
   "outputs": [
    {
     "name": "stdout",
     "output_type": "stream",
     "text": [
      "0.9 done! (9)\n"
     ]
    },
    {
     "data": {
      "text/html": [
       "<div>\n",
       "<style scoped>\n",
       "    .dataframe tbody tr th:only-of-type {\n",
       "        vertical-align: middle;\n",
       "    }\n",
       "\n",
       "    .dataframe tbody tr th {\n",
       "        vertical-align: top;\n",
       "    }\n",
       "\n",
       "    .dataframe thead th {\n",
       "        text-align: right;\n",
       "    }\n",
       "</style>\n",
       "<table border=\"1\" class=\"dataframe\">\n",
       "  <thead>\n",
       "    <tr style=\"text-align: right;\">\n",
       "      <th></th>\n",
       "      <th>code_pro</th>\n",
       "      <th>wilaya</th>\n",
       "      <th>field</th>\n",
       "      <th>activity</th>\n",
       "      <th>description</th>\n",
       "      <th>redundant</th>\n",
       "      <th>similar_activities</th>\n",
       "    </tr>\n",
       "  </thead>\n",
       "  <tbody>\n",
       "    <tr>\n",
       "      <th>1</th>\n",
       "      <td>P6B3R8CC</td>\n",
       "      <td>Algiers</td>\n",
       "      <td>NaN</td>\n",
       "      <td>Technicien de Maintenance du matériel Prépress...</td>\n",
       "      <td>Le service Prépresse est équipé des machines C...</td>\n",
       "      <td>False</td>\n",
       "      <td>[]</td>\n",
       "    </tr>\n",
       "    <tr>\n",
       "      <th>2</th>\n",
       "      <td>LPC2SE3W</td>\n",
       "      <td>Algiers</td>\n",
       "      <td>Services à la personne</td>\n",
       "      <td>معالجة ملفات تأشيرة و خدمات الزبائن</td>\n",
       "      <td>معالجة ملفات تأشيرة وحجز مواعيد والتوجبه الزبا...</td>\n",
       "      <td>False</td>\n",
       "      <td>[]</td>\n",
       "    </tr>\n",
       "    <tr>\n",
       "      <th>3</th>\n",
       "      <td>DBX8Y5D7</td>\n",
       "      <td>Batna</td>\n",
       "      <td>Conseil, Expertise et formation</td>\n",
       "      <td>مستشار مختص بتأشيرات السفر و برامج الهجرة</td>\n",
       "      <td>تقديم استشارات في مجال السفر و الهجرة من أجل م...</td>\n",
       "      <td>False</td>\n",
       "      <td>[]</td>\n",
       "    </tr>\n",
       "    <tr>\n",
       "      <th>4</th>\n",
       "      <td>PYC53DLT</td>\n",
       "      <td>Msila</td>\n",
       "      <td>Services à la personne</td>\n",
       "      <td>الرسم بالزيت والرمل</td>\n",
       "      <td>رسم أشخاص وطبيعة و مناظر صحراوية  بالزيت والرمل</td>\n",
       "      <td>False</td>\n",
       "      <td>[]</td>\n",
       "    </tr>\n",
       "    <tr>\n",
       "      <th>5</th>\n",
       "      <td>TLLSNCC9</td>\n",
       "      <td>Algiers</td>\n",
       "      <td>Services à la personne</td>\n",
       "      <td>Dessinateur projeteur en travaux publics et su...</td>\n",
       "      <td>dessinateur projeteur en travaux publics (bâti...</td>\n",
       "      <td>False</td>\n",
       "      <td>[]</td>\n",
       "    </tr>\n",
       "  </tbody>\n",
       "</table>\n",
       "</div>"
      ],
      "text/plain": [
       "   code_pro   wilaya                            field  \\\n",
       "1  P6B3R8CC  Algiers                              NaN   \n",
       "2  LPC2SE3W  Algiers           Services à la personne   \n",
       "3  DBX8Y5D7    Batna  Conseil, Expertise et formation   \n",
       "4  PYC53DLT    Msila           Services à la personne   \n",
       "5  TLLSNCC9  Algiers           Services à la personne   \n",
       "\n",
       "                                            activity  \\\n",
       "1  Technicien de Maintenance du matériel Prépress...   \n",
       "2                معالجة ملفات تأشيرة و خدمات الزبائن   \n",
       "3          مستشار مختص بتأشيرات السفر و برامج الهجرة   \n",
       "4                                الرسم بالزيت والرمل   \n",
       "5  Dessinateur projeteur en travaux publics et su...   \n",
       "\n",
       "                                         description  redundant  \\\n",
       "1  Le service Prépresse est équipé des machines C...      False   \n",
       "2  معالجة ملفات تأشيرة وحجز مواعيد والتوجبه الزبا...      False   \n",
       "3  تقديم استشارات في مجال السفر و الهجرة من أجل م...      False   \n",
       "4    رسم أشخاص وطبيعة و مناظر صحراوية  بالزيت والرمل      False   \n",
       "5  dessinateur projeteur en travaux publics (bâti...      False   \n",
       "\n",
       "  similar_activities  \n",
       "1                 []  \n",
       "2                 []  \n",
       "3                 []  \n",
       "4                 []  \n",
       "5                 []  "
      ]
     },
     "execution_count": 18,
     "metadata": {},
     "output_type": "execute_result"
    }
   ],
   "source": [
    "for th in thresholds:\n",
    "    df['redundant'], df['similar_activities'] = zip(*df.apply(lambda row: check_and_insert_activity(str(row.name), row['activity'], row['description'], threshold=th), axis=1))\n",
    "    \n",
    "    df[\"similar_activities\"] = df.apply(lambda row: [x for x in row[\"similar_activities\"] if str(x) != str(row.name)], axis=1)\n",
    "    df[\"redundant\"] = df[\"similar_activities\"].apply(lambda x: False if len(x) == 0 else True)\n",
    "    \n",
    "    ss = df['redundant'].sum()\n",
    "    n_redundancies2.append(ss)\n",
    "    print(f'{th} done! ({ss})')\n",
    "    \n",
    "df.head()"
   ]
  },
  {
   "cell_type": "code",
   "execution_count": 58,
   "id": "912d51d9",
   "metadata": {},
   "outputs": [
    {
     "data": {
      "image/png": "[encoded data removed]",
      "text/plain": [
       "<Figure size 700x500 with 1 Axes>"
      ]
     },
     "metadata": {},
     "output_type": "display_data"
    }
   ],
   "source": [
    "plt.figure(figsize=(7,5))\n",
    "\n",
    "# Plot with markers\n",
    "plt.plot(thresholds, n_redundancies2, marker='o', linestyle='-', markersize=5, label='Redundancies')\n",
    "\n",
    "# Draw circles around key points\n",
    "plt.scatter(0.5, 356, s=2000, facecolors='none', edgecolors='red', linewidth=2)  # First circle\n",
    "plt.scatter(0.65, (165+66)/2, s=8000, facecolors='none', edgecolors='red', linewidth=2)  # Larger second circle\n",
    "\n",
    "# Add arrows pointing to the circles (adjusted positions)\n",
    "plt.annotate('Elbow 1', xy=(0.52, 370), xytext=(0.8, 450),\n",
    "             fontsize=11, ha='center', arrowprops=dict(arrowstyle=\"->\", lw=1.5, color='black'))\n",
    "\n",
    "plt.annotate('Elbow 2', xy=(0.7, 165), xytext=(0.85, 250),\n",
    "             fontsize=11, ha='center', arrowprops=dict(arrowstyle=\"->\", lw=1.5, color='black'))\n",
    "\n",
    "# Labels and grid\n",
    "plt.xlabel(\"Thresholds\", fontsize=14)\n",
    "plt.ylabel(\"Number of Redundancies\", fontsize=14)\n",
    "plt.title(\"Threshold vs Redundancies\", fontsize=16)\n",
    "plt.grid(True, linestyle='--', alpha=0.6)\n",
    "\n",
    "plt.legend(fontsize=12)\n",
    "plt.savefig('elbow_method.png')\n",
    "plt.show()"
   ]
  }
 ],
 "metadata": {
  "kernelspec": {
   "display_name": "Python 3 (ipykernel)",
   "language": "python",
   "name": "python3"
  },
  "language_info": {
   "codemirror_mode": {
    "name": "ipython",
    "version": 3
   },
   "file_extension": ".py",
   "mimetype": "text/x-python",
   "name": "python",
   "nbconvert_exporter": "python",
   "pygments_lexer": "ipython3",
   "version": "3.11.9"
  }
 },
 "nbformat": 4,
 "nbformat_minor": 5
}
